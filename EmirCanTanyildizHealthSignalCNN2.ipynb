{
  "nbformat": 4,
  "nbformat_minor": 0,
  "metadata": {
    "colab": {
      "provenance": [],
      "mount_file_id": "1mHhU3nJnHsrkLimBTJzisNx1MnccW6FE",
      "authorship_tag": "ABX9TyMWmZ9BAMFiU5wJEKqPNe0W",
      "include_colab_link": true
    },
    "kernelspec": {
      "name": "python3",
      "display_name": "Python 3"
    },
    "language_info": {
      "name": "python"
    }
  },
  "cells": [
    {
      "cell_type": "markdown",
      "metadata": {
        "id": "view-in-github",
        "colab_type": "text"
      },
      "source": [
        "<a href=\"https://colab.research.google.com/github/EmircanTanyildiz/PythonHealthSignal/blob/main/EmirCanTanyildizHealthSignalCNN2.ipynb\" target=\"_parent\"><img src=\"https://colab.research.google.com/assets/colab-badge.svg\" alt=\"Open In Colab\"/></a>"
      ]
    },
    {
      "cell_type": "code",
      "execution_count": null,
      "metadata": {
        "id": "XRzyX-VYQIft"
      },
      "outputs": [],
      "source": [
        "import numpy as np\n",
        "import matplotlib.pyplot as plt\n",
        "import os\n",
        "import math\n",
        "import shutil\n",
        "import glob"
      ]
    },
    {
      "cell_type": "code",
      "source": [
        "from keras.layers import Conv2D, MaxPool2D, Dropout, Flatten, Dense, BatchNormalization, GlobalAveragePooling2D\n",
        "from keras.models import Sequential, Model,load_model\n",
        "\n",
        "from keras.preprocessing.image import load_img, img_to_array\n",
        "import keras\n",
        "print(\"kütüphaneler Yüklendi\")"
      ],
      "metadata": {
        "colab": {
          "base_uri": "https://localhost:8080/"
        },
        "id": "Nf5fK82GQLHt",
        "outputId": "e6ed1dd3-7b03-4c4e-ca63-6b7258b45604"
      },
      "execution_count": null,
      "outputs": [
        {
          "output_type": "stream",
          "name": "stdout",
          "text": [
            "kütüphaneler Yüklendi\n"
          ]
        }
      ]
    },
    {
      "cell_type": "code",
      "source": [
        "import keras.preprocessing.image as ImageDataGenerator\n"
      ],
      "metadata": {
        "id": "vaVn02FSQM7X"
      },
      "execution_count": null,
      "outputs": []
    },
    {
      "cell_type": "code",
      "source": [
        "from tensorflow.keras.preprocessing.image import ImageDataGenerator\n"
      ],
      "metadata": {
        "id": "ogiqhicdQPbh"
      },
      "execution_count": null,
      "outputs": []
    },
    {
      "cell_type": "code",
      "source": [
        "from keras.applications.mobilenet import MobileNet, preprocess_input"
      ],
      "metadata": {
        "id": "Iq0YJ5BMQR2q"
      },
      "execution_count": null,
      "outputs": []
    },
    {
      "cell_type": "code",
      "source": [
        "import keras"
      ],
      "metadata": {
        "id": "KiiBg5lSQUV5"
      },
      "execution_count": null,
      "outputs": []
    },
    {
      "cell_type": "code",
      "source": [
        "from keras.callbacks import ModelCheckpoint, EarlyStopping\n"
      ],
      "metadata": {
        "id": "NSfbIKVRQWiw"
      },
      "execution_count": null,
      "outputs": []
    },
    {
      "cell_type": "code",
      "source": [
        "def preprocessingImage1(path):\n",
        "\n",
        "  image_data = ImageDataGenerator(zoom_range=0.2, shear_range=0.2, rescale=1/255, horizontal_flip=True)\n",
        "  image= image_data.flow_from_directory(directory = path, target_size = (224,224), batch_size=32, class_mode='binary')\n",
        "\n",
        "  return image\n"
      ],
      "metadata": {
        "id": "nY4V3aMfQ443"
      },
      "execution_count": null,
      "outputs": []
    },
    {
      "cell_type": "code",
      "source": [
        "def preprocessingImage2(path):\n",
        "  image_data = ImageDataGenerator(rescale=1/255)\n",
        "  image = image_data.flow_from_directory(directory = path, target_size = (224,224), batch_size = 32, class_mode='binary')\n",
        "  return image\n"
      ],
      "metadata": {
        "id": "4xRfgQf3Q5TV"
      },
      "execution_count": null,
      "outputs": []
    },
    {
      "cell_type": "code",
      "source": [
        "path = \"/content/drive/MyDrive/ENGPROJECT3/archive/BrainTumorDataSet/BrainTumorDataSet/Train/\"\n",
        "train_data = preprocessingImage1(path)"
      ],
      "metadata": {
        "colab": {
          "base_uri": "https://localhost:8080/"
        },
        "id": "D2uoenETQ7Ma",
        "outputId": "e2f82fa0-e4cb-4f8a-957c-f9771813651d"
      },
      "execution_count": null,
      "outputs": [
        {
          "output_type": "stream",
          "name": "stdout",
          "text": [
            "Found 2905 images belonging to 2 classes.\n"
          ]
        }
      ]
    },
    {
      "cell_type": "code",
      "source": [
        "train_data.class_indices"
      ],
      "metadata": {
        "colab": {
          "base_uri": "https://localhost:8080/"
        },
        "id": "90vzWQS_Q9Di",
        "outputId": "9c3e24ae-d87b-4e92-92fe-1aec0a0cf9b2"
      },
      "execution_count": null,
      "outputs": [
        {
          "output_type": "execute_result",
          "data": {
            "text/plain": [
              "{'Brain Tumor': 0, 'Healthy': 1}"
            ]
          },
          "metadata": {},
          "execution_count": 159
        }
      ]
    },
    {
      "cell_type": "code",
      "source": [
        "path = \"/content/drive/MyDrive/ENGPROJECT3/archive/BrainTumorDataSet/BrainTumorDataSet/Test/\"\n",
        "test_data = preprocessingImage2(path)"
      ],
      "metadata": {
        "colab": {
          "base_uri": "https://localhost:8080/"
        },
        "id": "8hnhvzWZQ_Kz",
        "outputId": "fa0da369-fbd9-4e9d-cc4d-1c78ac58533b"
      },
      "execution_count": null,
      "outputs": [
        {
          "output_type": "stream",
          "name": "stdout",
          "text": [
            "Found 620 images belonging to 2 classes.\n"
          ]
        }
      ]
    },
    {
      "cell_type": "code",
      "source": [
        "path = \"/content/drive/MyDrive/ENGPROJECT3/archive/BrainTumorDataSet/BrainTumorDataSet/Valid/\"\n",
        "valid_data = preprocessingImage2(path)"
      ],
      "metadata": {
        "colab": {
          "base_uri": "https://localhost:8080/"
        },
        "id": "sQhxSmRSRBoP",
        "outputId": "4028f949-ca55-4443-dbfa-0c1c145ebba5"
      },
      "execution_count": null,
      "outputs": [
        {
          "output_type": "stream",
          "name": "stdout",
          "text": [
            "Found 641 images belonging to 2 classes.\n"
          ]
        }
      ]
    },
    {
      "cell_type": "code",
      "source": [],
      "metadata": {
        "id": "NMXCKCkc_be0"
      },
      "execution_count": null,
      "outputs": []
    },
    {
      "cell_type": "code",
      "source": [
        "from PIL import Image"
      ],
      "metadata": {
        "id": "ukMqUTmORDL8"
      },
      "execution_count": null,
      "outputs": []
    },
    {
      "cell_type": "code",
      "source": [
        "from keras.preprocessing import image"
      ],
      "metadata": {
        "id": "gIoIzf3gRVz3"
      },
      "execution_count": null,
      "outputs": []
    },
    {
      "cell_type": "code",
      "source": [
        "base_model = MobileNet(input_shape=(240,240,3), include_top=False)\n"
      ],
      "metadata": {
        "id": "iKyJPsHPfgmL",
        "colab": {
          "base_uri": "https://localhost:8080/"
        },
        "outputId": "fdc47f49-e2d2-4464-d995-60a0961a391e"
      },
      "execution_count": null,
      "outputs": [
        {
          "output_type": "stream",
          "name": "stderr",
          "text": [
            "WARNING:tensorflow:`input_shape` is undefined or non-square, or `rows` is not in [128, 160, 192, 224]. Weights for input shape (224, 224) will be loaded as the default.\n"
          ]
        }
      ]
    },
    {
      "cell_type": "code",
      "source": [
        "for layer in base_model.layers:\n",
        "  layer.trainable = False"
      ],
      "metadata": {
        "id": "ayMWWClxfji7"
      },
      "execution_count": null,
      "outputs": []
    },
    {
      "cell_type": "code",
      "source": [
        "X = Flatten()(base_model.output)\n",
        "X = Dense(units= 1, activation='sigmoid')(X)\n",
        "model = Model(base_model.input, X)"
      ],
      "metadata": {
        "id": "PnKrR3ZffkWk"
      },
      "execution_count": null,
      "outputs": []
    },
    {
      "cell_type": "code",
      "source": [
        "model.summary()"
      ],
      "metadata": {
        "colab": {
          "base_uri": "https://localhost:8080/"
        },
        "id": "xWjYYHh6fl8U",
        "outputId": "aa461927-7980-491e-dbe4-479c0759a9d3"
      },
      "execution_count": null,
      "outputs": [
        {
          "output_type": "stream",
          "name": "stdout",
          "text": [
            "Model: \"model_1\"\n",
            "_________________________________________________________________\n",
            " Layer (type)                Output Shape              Param #   \n",
            "=================================================================\n",
            " input_3 (InputLayer)        [(None, 240, 240, 3)]     0         \n",
            "                                                                 \n",
            " conv1 (Conv2D)              (None, 120, 120, 32)      864       \n",
            "                                                                 \n",
            " conv1_bn (BatchNormalizati  (None, 120, 120, 32)      128       \n",
            " on)                                                             \n",
            "                                                                 \n",
            " conv1_relu (ReLU)           (None, 120, 120, 32)      0         \n",
            "                                                                 \n",
            " conv_dw_1 (DepthwiseConv2D  (None, 120, 120, 32)      288       \n",
            " )                                                               \n",
            "                                                                 \n",
            " conv_dw_1_bn (BatchNormali  (None, 120, 120, 32)      128       \n",
            " zation)                                                         \n",
            "                                                                 \n",
            " conv_dw_1_relu (ReLU)       (None, 120, 120, 32)      0         \n",
            "                                                                 \n",
            " conv_pw_1 (Conv2D)          (None, 120, 120, 64)      2048      \n",
            "                                                                 \n",
            " conv_pw_1_bn (BatchNormali  (None, 120, 120, 64)      256       \n",
            " zation)                                                         \n",
            "                                                                 \n",
            " conv_pw_1_relu (ReLU)       (None, 120, 120, 64)      0         \n",
            "                                                                 \n",
            " conv_pad_2 (ZeroPadding2D)  (None, 121, 121, 64)      0         \n",
            "                                                                 \n",
            " conv_dw_2 (DepthwiseConv2D  (None, 60, 60, 64)        576       \n",
            " )                                                               \n",
            "                                                                 \n",
            " conv_dw_2_bn (BatchNormali  (None, 60, 60, 64)        256       \n",
            " zation)                                                         \n",
            "                                                                 \n",
            " conv_dw_2_relu (ReLU)       (None, 60, 60, 64)        0         \n",
            "                                                                 \n",
            " conv_pw_2 (Conv2D)          (None, 60, 60, 128)       8192      \n",
            "                                                                 \n",
            " conv_pw_2_bn (BatchNormali  (None, 60, 60, 128)       512       \n",
            " zation)                                                         \n",
            "                                                                 \n",
            " conv_pw_2_relu (ReLU)       (None, 60, 60, 128)       0         \n",
            "                                                                 \n",
            " conv_dw_3 (DepthwiseConv2D  (None, 60, 60, 128)       1152      \n",
            " )                                                               \n",
            "                                                                 \n",
            " conv_dw_3_bn (BatchNormali  (None, 60, 60, 128)       512       \n",
            " zation)                                                         \n",
            "                                                                 \n",
            " conv_dw_3_relu (ReLU)       (None, 60, 60, 128)       0         \n",
            "                                                                 \n",
            " conv_pw_3 (Conv2D)          (None, 60, 60, 128)       16384     \n",
            "                                                                 \n",
            " conv_pw_3_bn (BatchNormali  (None, 60, 60, 128)       512       \n",
            " zation)                                                         \n",
            "                                                                 \n",
            " conv_pw_3_relu (ReLU)       (None, 60, 60, 128)       0         \n",
            "                                                                 \n",
            " conv_pad_4 (ZeroPadding2D)  (None, 61, 61, 128)       0         \n",
            "                                                                 \n",
            " conv_dw_4 (DepthwiseConv2D  (None, 30, 30, 128)       1152      \n",
            " )                                                               \n",
            "                                                                 \n",
            " conv_dw_4_bn (BatchNormali  (None, 30, 30, 128)       512       \n",
            " zation)                                                         \n",
            "                                                                 \n",
            " conv_dw_4_relu (ReLU)       (None, 30, 30, 128)       0         \n",
            "                                                                 \n",
            " conv_pw_4 (Conv2D)          (None, 30, 30, 256)       32768     \n",
            "                                                                 \n",
            " conv_pw_4_bn (BatchNormali  (None, 30, 30, 256)       1024      \n",
            " zation)                                                         \n",
            "                                                                 \n",
            " conv_pw_4_relu (ReLU)       (None, 30, 30, 256)       0         \n",
            "                                                                 \n",
            " conv_dw_5 (DepthwiseConv2D  (None, 30, 30, 256)       2304      \n",
            " )                                                               \n",
            "                                                                 \n",
            " conv_dw_5_bn (BatchNormali  (None, 30, 30, 256)       1024      \n",
            " zation)                                                         \n",
            "                                                                 \n",
            " conv_dw_5_relu (ReLU)       (None, 30, 30, 256)       0         \n",
            "                                                                 \n",
            " conv_pw_5 (Conv2D)          (None, 30, 30, 256)       65536     \n",
            "                                                                 \n",
            " conv_pw_5_bn (BatchNormali  (None, 30, 30, 256)       1024      \n",
            " zation)                                                         \n",
            "                                                                 \n",
            " conv_pw_5_relu (ReLU)       (None, 30, 30, 256)       0         \n",
            "                                                                 \n",
            " conv_pad_6 (ZeroPadding2D)  (None, 31, 31, 256)       0         \n",
            "                                                                 \n",
            " conv_dw_6 (DepthwiseConv2D  (None, 15, 15, 256)       2304      \n",
            " )                                                               \n",
            "                                                                 \n",
            " conv_dw_6_bn (BatchNormali  (None, 15, 15, 256)       1024      \n",
            " zation)                                                         \n",
            "                                                                 \n",
            " conv_dw_6_relu (ReLU)       (None, 15, 15, 256)       0         \n",
            "                                                                 \n",
            " conv_pw_6 (Conv2D)          (None, 15, 15, 512)       131072    \n",
            "                                                                 \n",
            " conv_pw_6_bn (BatchNormali  (None, 15, 15, 512)       2048      \n",
            " zation)                                                         \n",
            "                                                                 \n",
            " conv_pw_6_relu (ReLU)       (None, 15, 15, 512)       0         \n",
            "                                                                 \n",
            " conv_dw_7 (DepthwiseConv2D  (None, 15, 15, 512)       4608      \n",
            " )                                                               \n",
            "                                                                 \n",
            " conv_dw_7_bn (BatchNormali  (None, 15, 15, 512)       2048      \n",
            " zation)                                                         \n",
            "                                                                 \n",
            " conv_dw_7_relu (ReLU)       (None, 15, 15, 512)       0         \n",
            "                                                                 \n",
            " conv_pw_7 (Conv2D)          (None, 15, 15, 512)       262144    \n",
            "                                                                 \n",
            " conv_pw_7_bn (BatchNormali  (None, 15, 15, 512)       2048      \n",
            " zation)                                                         \n",
            "                                                                 \n",
            " conv_pw_7_relu (ReLU)       (None, 15, 15, 512)       0         \n",
            "                                                                 \n",
            " conv_dw_8 (DepthwiseConv2D  (None, 15, 15, 512)       4608      \n",
            " )                                                               \n",
            "                                                                 \n",
            " conv_dw_8_bn (BatchNormali  (None, 15, 15, 512)       2048      \n",
            " zation)                                                         \n",
            "                                                                 \n",
            " conv_dw_8_relu (ReLU)       (None, 15, 15, 512)       0         \n",
            "                                                                 \n",
            " conv_pw_8 (Conv2D)          (None, 15, 15, 512)       262144    \n",
            "                                                                 \n",
            " conv_pw_8_bn (BatchNormali  (None, 15, 15, 512)       2048      \n",
            " zation)                                                         \n",
            "                                                                 \n",
            " conv_pw_8_relu (ReLU)       (None, 15, 15, 512)       0         \n",
            "                                                                 \n",
            " conv_dw_9 (DepthwiseConv2D  (None, 15, 15, 512)       4608      \n",
            " )                                                               \n",
            "                                                                 \n",
            " conv_dw_9_bn (BatchNormali  (None, 15, 15, 512)       2048      \n",
            " zation)                                                         \n",
            "                                                                 \n",
            " conv_dw_9_relu (ReLU)       (None, 15, 15, 512)       0         \n",
            "                                                                 \n",
            " conv_pw_9 (Conv2D)          (None, 15, 15, 512)       262144    \n",
            "                                                                 \n",
            " conv_pw_9_bn (BatchNormali  (None, 15, 15, 512)       2048      \n",
            " zation)                                                         \n",
            "                                                                 \n",
            " conv_pw_9_relu (ReLU)       (None, 15, 15, 512)       0         \n",
            "                                                                 \n",
            " conv_dw_10 (DepthwiseConv2  (None, 15, 15, 512)       4608      \n",
            " D)                                                              \n",
            "                                                                 \n",
            " conv_dw_10_bn (BatchNormal  (None, 15, 15, 512)       2048      \n",
            " ization)                                                        \n",
            "                                                                 \n",
            " conv_dw_10_relu (ReLU)      (None, 15, 15, 512)       0         \n",
            "                                                                 \n",
            " conv_pw_10 (Conv2D)         (None, 15, 15, 512)       262144    \n",
            "                                                                 \n",
            " conv_pw_10_bn (BatchNormal  (None, 15, 15, 512)       2048      \n",
            " ization)                                                        \n",
            "                                                                 \n",
            " conv_pw_10_relu (ReLU)      (None, 15, 15, 512)       0         \n",
            "                                                                 \n",
            " conv_dw_11 (DepthwiseConv2  (None, 15, 15, 512)       4608      \n",
            " D)                                                              \n",
            "                                                                 \n",
            " conv_dw_11_bn (BatchNormal  (None, 15, 15, 512)       2048      \n",
            " ization)                                                        \n",
            "                                                                 \n",
            " conv_dw_11_relu (ReLU)      (None, 15, 15, 512)       0         \n",
            "                                                                 \n",
            " conv_pw_11 (Conv2D)         (None, 15, 15, 512)       262144    \n",
            "                                                                 \n",
            " conv_pw_11_bn (BatchNormal  (None, 15, 15, 512)       2048      \n",
            " ization)                                                        \n",
            "                                                                 \n",
            " conv_pw_11_relu (ReLU)      (None, 15, 15, 512)       0         \n",
            "                                                                 \n",
            " conv_pad_12 (ZeroPadding2D  (None, 16, 16, 512)       0         \n",
            " )                                                               \n",
            "                                                                 \n",
            " conv_dw_12 (DepthwiseConv2  (None, 7, 7, 512)         4608      \n",
            " D)                                                              \n",
            "                                                                 \n",
            " conv_dw_12_bn (BatchNormal  (None, 7, 7, 512)         2048      \n",
            " ization)                                                        \n",
            "                                                                 \n",
            " conv_dw_12_relu (ReLU)      (None, 7, 7, 512)         0         \n",
            "                                                                 \n",
            " conv_pw_12 (Conv2D)         (None, 7, 7, 1024)        524288    \n",
            "                                                                 \n",
            " conv_pw_12_bn (BatchNormal  (None, 7, 7, 1024)        4096      \n",
            " ization)                                                        \n",
            "                                                                 \n",
            " conv_pw_12_relu (ReLU)      (None, 7, 7, 1024)        0         \n",
            "                                                                 \n",
            " conv_dw_13 (DepthwiseConv2  (None, 7, 7, 1024)        9216      \n",
            " D)                                                              \n",
            "                                                                 \n",
            " conv_dw_13_bn (BatchNormal  (None, 7, 7, 1024)        4096      \n",
            " ization)                                                        \n",
            "                                                                 \n",
            " conv_dw_13_relu (ReLU)      (None, 7, 7, 1024)        0         \n",
            "                                                                 \n",
            " conv_pw_13 (Conv2D)         (None, 7, 7, 1024)        1048576   \n",
            "                                                                 \n",
            " conv_pw_13_bn (BatchNormal  (None, 7, 7, 1024)        4096      \n",
            " ization)                                                        \n",
            "                                                                 \n",
            " conv_pw_13_relu (ReLU)      (None, 7, 7, 1024)        0         \n",
            "                                                                 \n",
            " flatten_1 (Flatten)         (None, 50176)             0         \n",
            "                                                                 \n",
            " dense_1 (Dense)             (None, 1)                 50177     \n",
            "                                                                 \n",
            "=================================================================\n",
            "Total params: 3279041 (12.51 MB)\n",
            "Trainable params: 50177 (196.00 KB)\n",
            "Non-trainable params: 3228864 (12.32 MB)\n",
            "_________________________________________________________________\n"
          ]
        }
      ]
    },
    {
      "cell_type": "code",
      "source": [
        "import keras"
      ],
      "metadata": {
        "id": "zVdKEIOqfmLc"
      },
      "execution_count": null,
      "outputs": []
    },
    {
      "cell_type": "code",
      "source": [
        "model.compile(optimizer = 'rmsprop', loss=keras.losses.binary_crossentropy, metrics=['accuracy'])"
      ],
      "metadata": {
        "id": "vDV1LVDUfmhK"
      },
      "execution_count": null,
      "outputs": []
    },
    {
      "cell_type": "code",
      "source": [
        "#CallBack\n",
        "\n",
        "mc = ModelCheckpoint(filepath='/content/drive/MyDrive/ENGPROJECT3/archive/bestmodel4.keras', monitor='val_accuracy', verbose=1, save_best_only=True)\n",
        "#Early Stopping\n",
        "es =  EarlyStopping(monitor=\"val_accuracy\", min_delta=0.01, patience=3, verbose=1)\n",
        "cb = [mc,es]"
      ],
      "metadata": {
        "id": "AjLDcdeEfs-s"
      },
      "execution_count": null,
      "outputs": []
    },
    {
      "cell_type": "code",
      "source": [
        "import tensorflow as tf\n",
        "print(tf.__version__)"
      ],
      "metadata": {
        "colab": {
          "base_uri": "https://localhost:8080/"
        },
        "id": "S_H1S1K4qsJa",
        "outputId": "870c0ed0-778d-4dde-c510-69b37c650e42"
      },
      "execution_count": null,
      "outputs": [
        {
          "output_type": "stream",
          "name": "stdout",
          "text": [
            "2.15.0\n"
          ]
        }
      ]
    },
    {
      "cell_type": "code",
      "source": [
        "model = load_model(\"/content/drive/MyDrive/ENGPROJECT3/archive/bestmodel.keras\")"
      ],
      "metadata": {
        "id": "J0ReCQN3QX-e"
      },
      "execution_count": null,
      "outputs": []
    },
    {
      "cell_type": "code",
      "source": [
        "acc = model.evaluate(test_data)[1]\n",
        "print(f\"Modelin Dogruluk Orani: %{acc*100}\")"
      ],
      "metadata": {
        "id": "auobxa2NQpkF",
        "colab": {
          "base_uri": "https://localhost:8080/"
        },
        "outputId": "e48ef7ec-0b92-4ac4-a3d3-4f1074f8ed00"
      },
      "execution_count": null,
      "outputs": [
        {
          "output_type": "stream",
          "name": "stdout",
          "text": [
            "20/20 [==============================] - 28s 1s/step - loss: 0.4205 - accuracy: 0.9516\n",
            "Modelin Dogruluk Orani: %95.16128897666931\n"
          ]
        }
      ]
    },
    {
      "cell_type": "code",
      "source": [
        "def tahminEt(_Path):\n",
        "    path = _Path\n",
        "    img = image.load_img(path, target_size=(224,224))\n",
        "    i = image.img_to_array(img)/255\n",
        "    input_arr = np.array([i])\n",
        "    input_arr.shape\n",
        "\n",
        "    pred = np.argmax(model.predict(input_arr))\n",
        "\n",
        "    if pred == 0:\n",
        "        print(\"MRI Görüntüsünde Beyin Tümörüne Rastlanıldı\")\n",
        "    else:\n",
        "        print(\"MRI Görüntürüsünde Beyin Tümörüne Rastlanılmadı\")\n",
        "    plt.imshow(input_arr[0])\n",
        "    plt.title(\"input image\")\n",
        "    plt.show()\n"
      ],
      "metadata": {
        "id": "hsxkXuRpQz29"
      },
      "execution_count": null,
      "outputs": []
    },
    {
      "cell_type": "code",
      "source": [
        "def tahminEt(_Path):\n",
        "    path = _Path\n",
        "    img = image.load_img(path, target_size=(224,224))\n",
        "    i = image.img_to_array(img)\n",
        "    i = preprocess_input(i)\n",
        "    input_arr = np.array([i])\n",
        "    input_arr.shape\n",
        "\n",
        "    pred = model.predict(input_arr)[0][0]  # Sigmoid aktivasyonundan dolayı 0 ile 1 arasında bir değer döner\n",
        "\n",
        "    if pred > 0.5:\n",
        "        print(\"MRI Görüntüsünde Beyin Tümörüne Rastlanılmadı X\")\n",
        "        return 0\n",
        "    else:\n",
        "        print(\"MRI Görüntüsünde Beyin Tümörüne Rastlanıldı Y\")\n",
        "        return 1\n",
        "\n"
      ],
      "metadata": {
        "id": "9qNGPy_HDBny"
      },
      "execution_count": null,
      "outputs": []
    },
    {
      "cell_type": "code",
      "source": [
        "tahminEt(\"/content/drive/MyDrive/ENGPROJECT3/archive/BrainTumorDataSet/BrainTumorDataSet/Test/Healthy/Not Cancer  (1003).jpg\")"
      ],
      "metadata": {
        "id": "a64dfSfsRydn",
        "colab": {
          "base_uri": "https://localhost:8080/"
        },
        "outputId": "3426e919-1116-4146-81ef-897288f8d805"
      },
      "execution_count": null,
      "outputs": [
        {
          "output_type": "stream",
          "name": "stdout",
          "text": [
            "1/1 [==============================] - 1s 802ms/step\n",
            "MRI Görüntüsünde Beyin Tümörüne Rastlanılmadı X\n"
          ]
        },
        {
          "output_type": "execute_result",
          "data": {
            "text/plain": [
              "0"
            ]
          },
          "metadata": {},
          "execution_count": 121
        }
      ]
    },
    {
      "cell_type": "code",
      "source": [
        "tahminEt(\"/content/drive/MyDrive/ENGPROJECT3/archive/BrainTumorDataSet/BrainTumorDataSet/Test/Healthy/Not Cancer  (1103).jpg\")"
      ],
      "metadata": {
        "id": "KDiqMEFvR0d4",
        "colab": {
          "base_uri": "https://localhost:8080/"
        },
        "outputId": "eecca144-4c82-4b8a-d7bd-8a9a10e4bfef"
      },
      "execution_count": null,
      "outputs": [
        {
          "output_type": "stream",
          "name": "stdout",
          "text": [
            "1/1 [==============================] - 0s 88ms/step\n",
            "MRI Görüntüsünde Beyin Tümörüne Rastlanılmadı X\n"
          ]
        },
        {
          "output_type": "execute_result",
          "data": {
            "text/plain": [
              "0"
            ]
          },
          "metadata": {},
          "execution_count": 122
        }
      ]
    },
    {
      "cell_type": "code",
      "source": [
        "tahminEt(\"/content/drive/MyDrive/ENGPROJECT3/archive/BrainTumorDataSet/BrainTumorDataSet/Test/Brain Tumor/Cancer (1).jpg\")"
      ],
      "metadata": {
        "id": "FQ3VoRlsQuYk",
        "colab": {
          "base_uri": "https://localhost:8080/"
        },
        "outputId": "a847b3b7-3c7b-4f59-d65b-dba40f79da85"
      },
      "execution_count": null,
      "outputs": [
        {
          "output_type": "stream",
          "name": "stdout",
          "text": [
            "1/1 [==============================] - 0s 59ms/step\n",
            "MRI Görüntüsünde Beyin Tümörüne Rastlanıldı Y\n"
          ]
        },
        {
          "output_type": "execute_result",
          "data": {
            "text/plain": [
              "1"
            ]
          },
          "metadata": {},
          "execution_count": 123
        }
      ]
    },
    {
      "cell_type": "code",
      "source": [
        "tahminEt(\"/content/drive/MyDrive/ENGPROJECT3/archive/BrainTumorDataSet/BrainTumorDataSet/Test/Healthy/Not Cancer  (1840).jpg\")"
      ],
      "metadata": {
        "id": "zlflnK-ESKsF",
        "colab": {
          "base_uri": "https://localhost:8080/"
        },
        "outputId": "b44186e4-bea1-45d7-96bc-ff2468944d89"
      },
      "execution_count": null,
      "outputs": [
        {
          "output_type": "stream",
          "name": "stdout",
          "text": [
            "1/1 [==============================] - 0s 57ms/step\n",
            "MRI Görüntüsünde Beyin Tümörüne Rastlanılmadı X\n"
          ]
        },
        {
          "output_type": "execute_result",
          "data": {
            "text/plain": [
              "0"
            ]
          },
          "metadata": {},
          "execution_count": 124
        }
      ]
    },
    {
      "cell_type": "code",
      "source": [
        "tahminEt(\"/content/drive/MyDrive/ENGPROJECT3/archive/BrainTumorDataSet/BrainTumorDataSet/Test/Healthy/Not Cancer  (436).jpg\")"
      ],
      "metadata": {
        "id": "ulKvQ-1KSNKT",
        "colab": {
          "base_uri": "https://localhost:8080/"
        },
        "outputId": "c3911a17-e753-41e0-cf84-53d46dd3306a"
      },
      "execution_count": null,
      "outputs": [
        {
          "output_type": "stream",
          "name": "stdout",
          "text": [
            "1/1 [==============================] - 0s 54ms/step\n",
            "MRI Görüntüsünde Beyin Tümörüne Rastlanılmadı X\n"
          ]
        },
        {
          "output_type": "execute_result",
          "data": {
            "text/plain": [
              "0"
            ]
          },
          "metadata": {},
          "execution_count": 125
        }
      ]
    },
    {
      "cell_type": "code",
      "source": [
        "tahminEt(\"/content/drive/MyDrive/archive/no/N_1001.jpg\")"
      ],
      "metadata": {
        "id": "P3ydyFQwSh82",
        "colab": {
          "base_uri": "https://localhost:8080/"
        },
        "outputId": "552bdd68-3c78-4c41-fbc6-ee1c4ff0c1b9"
      },
      "execution_count": null,
      "outputs": [
        {
          "output_type": "stream",
          "name": "stdout",
          "text": [
            "1/1 [==============================] - 0s 54ms/step\n",
            "MRI Görüntüsünde Beyin Tümörüne Rastlanılmadı X\n"
          ]
        },
        {
          "output_type": "execute_result",
          "data": {
            "text/plain": [
              "0"
            ]
          },
          "metadata": {},
          "execution_count": 126
        }
      ]
    },
    {
      "cell_type": "code",
      "source": [
        "tahminEt(\"/content/drive/MyDrive/archive/yes/Y_1011.jpg\")"
      ],
      "metadata": {
        "id": "CCFCeXdaSicc",
        "colab": {
          "base_uri": "https://localhost:8080/"
        },
        "outputId": "83665f0d-aa62-4287-8e4a-1cdb0c291ebe"
      },
      "execution_count": null,
      "outputs": [
        {
          "output_type": "stream",
          "name": "stdout",
          "text": [
            "1/1 [==============================] - 0s 54ms/step\n",
            "MRI Görüntüsünde Beyin Tümörüne Rastlanıldı Y\n"
          ]
        },
        {
          "output_type": "execute_result",
          "data": {
            "text/plain": [
              "1"
            ]
          },
          "metadata": {},
          "execution_count": 127
        }
      ]
    },
    {
      "cell_type": "code",
      "source": [
        "tahminEt(\"/content/drive/MyDrive/archive/no/N_1043.jpg\")"
      ],
      "metadata": {
        "colab": {
          "base_uri": "https://localhost:8080/"
        },
        "id": "-1Ef4Mic_toI",
        "outputId": "584c07ee-e028-479e-e65a-73a73b579fe9"
      },
      "execution_count": null,
      "outputs": [
        {
          "output_type": "stream",
          "name": "stdout",
          "text": [
            "1/1 [==============================] - 0s 55ms/step\n",
            "MRI Görüntüsünde Beyin Tümörüne Rastlanılmadı X\n"
          ]
        },
        {
          "output_type": "execute_result",
          "data": {
            "text/plain": [
              "0"
            ]
          },
          "metadata": {},
          "execution_count": 128
        }
      ]
    },
    {
      "cell_type": "code",
      "source": [],
      "metadata": {
        "id": "GQpgVYAX_tyY"
      },
      "execution_count": null,
      "outputs": []
    },
    {
      "cell_type": "code",
      "source": [],
      "metadata": {
        "id": "MPwX-vb2_t7m"
      },
      "execution_count": null,
      "outputs": []
    },
    {
      "cell_type": "code",
      "source": [],
      "metadata": {
        "id": "sNQHSrT0_wTG"
      },
      "execution_count": null,
      "outputs": []
    }
  ]
}